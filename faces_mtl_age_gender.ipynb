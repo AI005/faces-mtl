{
 "cells": [
  {
   "cell_type": "code",
   "execution_count": 1,
   "metadata": {},
   "outputs": [
    {
     "name": "stderr",
     "output_type": "stream",
     "text": [
      "Using TensorFlow backend.\n"
     ]
    }
   ],
   "source": [
    "from scipy.io import loadmat\n",
    "from skimage import io\n",
    "from skimage.transform import resize\n",
    "from sklearn.model_selection import train_test_split\n",
    "import keras\n",
    "\n",
    "import pandas as pd\n",
    "import numpy as np\n",
    "\n",
    "from os.path import join\n",
    "\n",
    "import matplotlib.pyplot as plt\n",
    "import seaborn as sns\n",
    "from IPython.display import Image\n",
    "from IPython.display import clear_output\n",
    "\n",
    "from datetime import datetime\n",
    "from dateutil.relativedelta import relativedelta\n",
    "from datetime import timedelta\n",
    "\n",
    "sample_size = 20000"
   ]
  },
  {
   "cell_type": "markdown",
   "metadata": {},
   "source": [
    "`PlotProgress` subclasses the Callback class to plot graph after each epoch"
   ]
  },
  {
   "cell_type": "code",
   "execution_count": 2,
   "metadata": {
    "code_folding": [
     0
    ]
   },
   "outputs": [],
   "source": [
    "class PlotProgress(keras.callbacks.Callback):\n",
    "    \n",
    "    def __init__(self, entity='loss'):\n",
    "        self.entity = entity\n",
    "        \n",
    "    def on_train_begin(self, logs={}):\n",
    "        self.i = 0\n",
    "        self.x = []\n",
    "        self.losses = []\n",
    "        self.val_losses = []\n",
    "        \n",
    "        self.fig = plt.figure()\n",
    "        \n",
    "        self.logs = []\n",
    "\n",
    "    def on_epoch_end(self, epoch, logs={}):\n",
    "        \n",
    "        self.logs.append(logs)\n",
    "        self.x.append(self.i)\n",
    "        self.losses.append(logs.get('{}'.format(self.entity)))\n",
    "        self.val_losses.append(logs.get('val_{}'.format(self.entity)))\n",
    "        self.i += 1\n",
    "        \n",
    "        clear_output(wait=True)\n",
    "        plt.plot(self.x, self.losses, label=\"{}\".format(self.entity))\n",
    "        plt.plot(self.x, self.val_losses, label=\"val_{}\".format(self.entity))\n",
    "        plt.legend()\n",
    "        plt.show();"
   ]
  },
  {
   "cell_type": "markdown",
   "metadata": {},
   "source": [
    "Helper functions to extract data from the matlab metadata file and read image from path"
   ]
  },
  {
   "cell_type": "code",
   "execution_count": 3,
   "metadata": {
    "code_folding": [
     0,
     5,
     12
    ]
   },
   "outputs": [],
   "source": [
    "def get_date(matlab_datenum):\n",
    "    matlab_datenum = int(matlab_datenum)\n",
    "    python_datetime = datetime.fromordinal(int(matlab_datenum)) + timedelta(days=matlab_datenum%1) - timedelta(days = 366)\n",
    "    return python_datetime\n",
    "\n",
    "def get_age(row):\n",
    "    try:\n",
    "        age = relativedelta(row['photo_taken'], row['dob']).years\n",
    "    except:\n",
    "        age = None\n",
    "    return age\n",
    "\n",
    "def get_image(path, base='wiki_crop'):\n",
    "    return io.imread(join(base, path))"
   ]
  },
  {
   "cell_type": "markdown",
   "metadata": {},
   "source": [
    "### Read and Prepare Data"
   ]
  },
  {
   "cell_type": "code",
   "execution_count": 4,
   "metadata": {},
   "outputs": [],
   "source": [
    "raw_metadata = loadmat('./wiki_crop/wiki.mat').get('wiki')"
   ]
  },
  {
   "cell_type": "code",
   "execution_count": 5,
   "metadata": {},
   "outputs": [],
   "source": [
    "flattened_metadata = np.squeeze(np.array([row for data in raw_metadata for rows in data for row in rows]))"
   ]
  },
  {
   "cell_type": "markdown",
   "metadata": {},
   "source": [
    "### Take only a sample for example"
   ]
  },
  {
   "cell_type": "code",
   "execution_count": 6,
   "metadata": {},
   "outputs": [],
   "source": [
    "metainfo_df = pd.DataFrame(\n",
    "    flattened_metadata.T[:sample_size, :4],\n",
    "    columns = ['dob', 'photo_taken', 'full_path', 'gender'])"
   ]
  },
  {
   "cell_type": "code",
   "execution_count": 7,
   "metadata": {},
   "outputs": [],
   "source": [
    "metainfo_df['photo_taken'] = metainfo_df.photo_taken.apply(lambda x: datetime(x, 1, 1))\n",
    "metainfo_df['dob'] = metainfo_df.dob.apply(get_date)\n",
    "metainfo_df['age'] = metainfo_df.apply(get_age, axis=1)\n",
    "metainfo_df = metainfo_df[metainfo_df.age > 0]\n",
    "metainfo_df = metainfo_df[~metainfo_df.gender.isnull()]"
   ]
  },
  {
   "cell_type": "code",
   "execution_count": 8,
   "metadata": {},
   "outputs": [
    {
     "data": {
      "text/plain": [
       "(                           full_path gender  age\n",
       " 0  [17/10000217_1981-05-05_2009.jpg]      1   27\n",
       " 1  [48/10000548_1925-04-04_1964.jpg]      1   38\n",
       " 2    [12/100012_1948-07-03_2008.jpg]      1   59\n",
       " 3  [65/10001965_1930-05-23_1961.jpg]      1   30\n",
       " 4  [16/10002116_1971-05-31_2012.jpg]      0   40, (18847, 3))"
      ]
     },
     "execution_count": 8,
     "metadata": {},
     "output_type": "execute_result"
    }
   ],
   "source": [
    "metainfo_df.drop(columns=['dob', 'photo_taken'], inplace=True)\n",
    "metainfo_df.head(), metainfo_df.shape"
   ]
  },
  {
   "cell_type": "code",
   "execution_count": 9,
   "metadata": {},
   "outputs": [
    {
     "name": "stdout",
     "output_type": "stream",
     "text": [
      "CPU times: user 54.2 s, sys: 3.21 s, total: 57.4 s\n",
      "Wall time: 2min 13s\n"
     ]
    }
   ],
   "source": [
    "%%time\n",
    "metainfo_df['data'] = metainfo_df.full_path.apply(lambda path_array: get_image(path_array[0]))"
   ]
  },
  {
   "cell_type": "markdown",
   "metadata": {},
   "source": [
    "### Filter images with 3 channels (RGB)"
   ]
  },
  {
   "cell_type": "code",
   "execution_count": 10,
   "metadata": {},
   "outputs": [],
   "source": [
    "metainfo_df = metainfo_df[metainfo_df.data.apply(lambda x: len(np.shape(x))) == 3]"
   ]
  },
  {
   "cell_type": "markdown",
   "metadata": {},
   "source": [
    "### Resize images to 100 x 100"
   ]
  },
  {
   "cell_type": "code",
   "execution_count": 11,
   "metadata": {},
   "outputs": [
    {
     "name": "stderr",
     "output_type": "stream",
     "text": [
      "/home/rahul/.environments/tensorflow-gpu/lib/python3.5/site-packages/skimage/transform/_warps.py:105: UserWarning: The default mode, 'constant', will be changed to 'reflect' in skimage 0.15.\n",
      "  warn(\"The default mode, 'constant', will be changed to 'reflect' in \"\n"
     ]
    },
    {
     "name": "stdout",
     "output_type": "stream",
     "text": [
      "CPU times: user 4min 7s, sys: 3min 35s, total: 7min 42s\n",
      "Wall time: 2min 34s\n"
     ]
    }
   ],
   "source": [
    "%%time\n",
    "metainfo_df['data'] = metainfo_df.data.apply(lambda img: resize(img, (100, 100), anti_aliasing= True) )"
   ]
  },
  {
   "cell_type": "markdown",
   "metadata": {},
   "source": [
    "### Check for missing values"
   ]
  },
  {
   "cell_type": "code",
   "execution_count": 12,
   "metadata": {},
   "outputs": [
    {
     "data": {
      "text/plain": [
       "full_path    0\n",
       "gender       0\n",
       "age          0\n",
       "data         0\n",
       "dtype: int64"
      ]
     },
     "execution_count": 12,
     "metadata": {},
     "output_type": "execute_result"
    }
   ],
   "source": [
    "metainfo_df.isnull().apply(sum)"
   ]
  },
  {
   "cell_type": "code",
   "execution_count": 13,
   "metadata": {},
   "outputs": [],
   "source": [
    "faces   = np.array([img for img in metainfo_df.data])\n",
    "labels  = metainfo_df[['age', 'gender']].values"
   ]
  },
  {
   "cell_type": "markdown",
   "metadata": {},
   "source": [
    "### Split data into train and test"
   ]
  },
  {
   "cell_type": "code",
   "execution_count": 14,
   "metadata": {},
   "outputs": [],
   "source": [
    "X_train, X_test, Y_train, Y_test = train_test_split(faces.astype('float32'), \n",
    "                                                      labels.astype('float32'),\n",
    "                                                      test_size=0.2,\n",
    "                                                      random_state=123)"
   ]
  },
  {
   "cell_type": "code",
   "execution_count": 15,
   "metadata": {},
   "outputs": [],
   "source": [
    "y_train_age    = Y_train[:, 0]\n",
    "y_test_age    = Y_test[:, 0]\n",
    "y_train_gender = Y_train[:, 1]\n",
    "y_test_gender = Y_test[:, 1]"
   ]
  },
  {
   "cell_type": "code",
   "execution_count": 16,
   "metadata": {},
   "outputs": [],
   "source": [
    "import keras\n",
    "from keras.models import Model\n",
    "from keras.layers import Input, Dense, Dropout, Activation, Flatten\n",
    "from keras.layers import Conv2D, MaxPooling2D\n",
    "\n",
    "from keras.utils import plot_model"
   ]
  },
  {
   "cell_type": "markdown",
   "metadata": {},
   "source": [
    "## Keras Functional API\n",
    "- This is the main branch\n",
    "- These layers are common to both the tasks\n"
   ]
  },
  {
   "cell_type": "code",
   "execution_count": 44,
   "metadata": {},
   "outputs": [],
   "source": [
    "filter_size = (5, 5)\n",
    "maxpool_size = (2, 2)\n",
    "dr = 0.3\n",
    "\n",
    "inputs = Input(shape=X_train[0].shape, name='main_input')\n",
    "\n",
    "main_branch = Conv2D(16, kernel_size=filter_size, padding=\"same\")(inputs)\n",
    "main_branch = Activation(\"relu\")(main_branch)\n",
    "main_branch = MaxPooling2D(pool_size=maxpool_size)(main_branch)\n",
    "main_branch = Dropout(dr)(main_branch)\n",
    "\n",
    "main_branch = Conv2D(8, kernel_size=filter_size, padding=\"same\")(main_branch)\n",
    "main_branch = Activation(\"relu\")(main_branch)\n",
    "main_branch = MaxPooling2D(pool_size=maxpool_size)(main_branch)\n",
    "main_branch = Dropout(dr)(main_branch)\n",
    "\n",
    "main_branch = Flatten()(main_branch)\n",
    "main_branch = Dense(32)(main_branch)\n",
    "main_branch = Activation('relu')(main_branch)\n",
    "main_branch = Dropout(dr)(main_branch)"
   ]
  },
  {
   "cell_type": "markdown",
   "metadata": {},
   "source": [
    "- This is where the network branches for multiple outputs/tasks\n",
    "- gender is n x 2 output where as age is n x 1 output"
   ]
  },
  {
   "cell_type": "code",
   "execution_count": 45,
   "metadata": {},
   "outputs": [],
   "source": [
    "age_branch = Dense(1, activation='relu', name='age_output')(main_branch)\n",
    "gender_branch = Dense(2, activation='softmax', name='gender_output')(main_branch)"
   ]
  },
  {
   "cell_type": "code",
   "execution_count": 46,
   "metadata": {},
   "outputs": [
    {
     "name": "stdout",
     "output_type": "stream",
     "text": [
      "__________________________________________________________________________________________________\n",
      "Layer (type)                    Output Shape         Param #     Connected to                     \n",
      "==================================================================================================\n",
      "main_input (InputLayer)         (None, 100, 100, 3)  0                                            \n",
      "__________________________________________________________________________________________________\n",
      "conv2d_8 (Conv2D)               (None, 100, 100, 16) 1216        main_input[0][0]                 \n",
      "__________________________________________________________________________________________________\n",
      "activation_11 (Activation)      (None, 100, 100, 16) 0           conv2d_8[0][0]                   \n",
      "__________________________________________________________________________________________________\n",
      "max_pooling2d_8 (MaxPooling2D)  (None, 50, 50, 16)   0           activation_11[0][0]              \n",
      "__________________________________________________________________________________________________\n",
      "dropout_9 (Dropout)             (None, 50, 50, 16)   0           max_pooling2d_8[0][0]            \n",
      "__________________________________________________________________________________________________\n",
      "conv2d_9 (Conv2D)               (None, 50, 50, 8)    3208        dropout_9[0][0]                  \n",
      "__________________________________________________________________________________________________\n",
      "activation_12 (Activation)      (None, 50, 50, 8)    0           conv2d_9[0][0]                   \n",
      "__________________________________________________________________________________________________\n",
      "max_pooling2d_9 (MaxPooling2D)  (None, 25, 25, 8)    0           activation_12[0][0]              \n",
      "__________________________________________________________________________________________________\n",
      "dropout_10 (Dropout)            (None, 25, 25, 8)    0           max_pooling2d_9[0][0]            \n",
      "__________________________________________________________________________________________________\n",
      "flatten_4 (Flatten)             (None, 5000)         0           dropout_10[0][0]                 \n",
      "__________________________________________________________________________________________________\n",
      "dense_4 (Dense)                 (None, 32)           160032      flatten_4[0][0]                  \n",
      "__________________________________________________________________________________________________\n",
      "activation_13 (Activation)      (None, 32)           0           dense_4[0][0]                    \n",
      "__________________________________________________________________________________________________\n",
      "dropout_11 (Dropout)            (None, 32)           0           activation_13[0][0]              \n",
      "__________________________________________________________________________________________________\n",
      "age_output (Dense)              (None, 1)            33          dropout_11[0][0]                 \n",
      "__________________________________________________________________________________________________\n",
      "gender_output (Dense)           (None, 2)            66          dropout_11[0][0]                 \n",
      "==================================================================================================\n",
      "Total params: 164,555\n",
      "Trainable params: 164,555\n",
      "Non-trainable params: 0\n",
      "__________________________________________________________________________________________________\n"
     ]
    }
   ],
   "source": [
    "model = Model(inputs = inputs,\n",
    "     outputs = [age_branch, gender_branch])\n",
    "model.summary()"
   ]
  },
  {
   "cell_type": "code",
   "execution_count": 47,
   "metadata": {
    "scrolled": true
   },
   "outputs": [
    {
     "data": {
      "image/png": "[encoded data removed]",
      "text/plain": [
       "<IPython.core.display.Image object>"
      ]
     },
     "execution_count": 47,
     "metadata": {
      "image/png": {
       "height": 662,
       "width": 186
      }
     },
     "output_type": "execute_result"
    }
   ],
   "source": [
    "plot_model(model)\n",
    "Image(retina=True, filename='model.png')"
   ]
  },
  {
   "cell_type": "markdown",
   "metadata": {},
   "source": [
    "### Multi loss optimizations\n",
    "\n",
    "- mse for age and cross-entropy for gender\n",
    "- we can weight these individual losses\n",
    "- Loss = weight1 * loss1 + weight2 * loss2"
   ]
  },
  {
   "cell_type": "code",
   "execution_count": 48,
   "metadata": {},
   "outputs": [],
   "source": [
    "opt = keras.optimizers.RMSprop(lr=1e-3)\n",
    "model.compile(optimizer='rmsprop',\n",
    "              loss={'age_output': 'mse', 'gender_output': 'sparse_categorical_crossentropy'},\n",
    "              loss_weights={'age_output': .001, 'gender_output': 1.})"
   ]
  },
  {
   "cell_type": "code",
   "execution_count": 49,
   "metadata": {},
   "outputs": [
    {
     "data": {
      "image/png": "[encoded data removed]",
      "text/plain": [
       "<Figure size 432x288 with 1 Axes>"
      ]
     },
     "metadata": {
      "needs_background": "light"
     },
     "output_type": "display_data"
    },
    {
     "name": "stdout",
     "output_type": "stream",
     "text": [
      "Epoch 95/100\n",
      "4480/9719 [============>.................] - ETA: 2s - loss: 0.8105 - age_output_loss: 538.3462 - gender_output_loss: 0.2721"
     ]
    }
   ],
   "source": [
    "plot_progress = PlotProgress(entity='loss')\n",
    "\n",
    "try:\n",
    "    model.fit({'main_input': X_train},\n",
    "              {'age_output': y_train_age, 'gender_output': y_train_gender},\n",
    "              epochs=100, batch_size=128,\n",
    "              verbose=1,\n",
    "              callbacks=[plot_progress],\n",
    "              validation_split=0.2,\n",
    "             )\n",
    "except KeyboardInterrupt:\n",
    "    pass"
   ]
  },
  {
   "cell_type": "code",
   "execution_count": null,
   "metadata": {},
   "outputs": [],
   "source": []
  }
 ],
 "metadata": {
  "kernelspec": {
   "display_name": "Python 3",
   "language": "python",
   "name": "python3"
  },
  "language_info": {
   "codemirror_mode": {
    "name": "ipython",
    "version": 3
   },
   "file_extension": ".py",
   "mimetype": "text/x-python",
   "name": "python",
   "nbconvert_exporter": "python",
   "pygments_lexer": "ipython3",
   "version": "3.6.5"
  }
 },
 "nbformat": 4,
 "nbformat_minor": 2
}
